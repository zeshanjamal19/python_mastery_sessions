{
 "cells": [
  {
   "cell_type": "code",
   "execution_count": 18,
   "id": "a588e6b7",
   "metadata": {},
   "outputs": [
    {
     "name": "stdout",
     "output_type": "stream",
     "text": [
      "20.0\n"
     ]
    }
   ],
   "source": [
    "x = int(input(\"Enter the value: \"))\n",
    "print(x/2)"
   ]
  },
  {
   "cell_type": "code",
   "execution_count": 20,
   "id": "e53731f8",
   "metadata": {},
   "outputs": [
    {
     "name": "stdout",
     "output_type": "stream",
     "text": [
      "0 0 0\n",
      "5 5 5\n"
     ]
    }
   ],
   "source": [
    "i = j = k = 0\n",
    "a = b = c = 5\n",
    "print(i, j , k)\n",
    "print(a, b, c)"
   ]
  },
  {
   "cell_type": "code",
   "execution_count": 22,
   "id": "cea43185",
   "metadata": {},
   "outputs": [
    {
     "name": "stdout",
     "output_type": "stream",
     "text": [
      "Value of a is 5 and value of b is 5 .\n"
     ]
    }
   ],
   "source": [
    "print(\"Value of a is\",a,\"and value of b is\",b,\".\") "
   ]
  },
  {
   "cell_type": "code",
   "execution_count": null,
   "id": "c6098e58",
   "metadata": {},
   "outputs": [
    {
     "name": "stdout",
     "output_type": "stream",
     "text": [
      "Value of a is5 and value of b is 5.\n"
     ]
    }
   ],
   "source": [
    "print(f\"Value of a is {a} and value of b is {b}.\") "
   ]
  },
  {
   "cell_type": "code",
   "execution_count": 27,
   "id": "068a4bd8",
   "metadata": {},
   "outputs": [
    {
     "name": "stdout",
     "output_type": "stream",
     "text": [
      "['__doc__', '__loader__', '__name__', '__package__', '__spec__', 'acos', 'acosh', 'asin', 'asinh', 'atan', 'atan2', 'atanh', 'cbrt', 'ceil', 'comb', 'copysign', 'cos', 'cosh', 'degrees', 'dist', 'e', 'erf', 'erfc', 'exp', 'exp2', 'expm1', 'fabs', 'factorial', 'floor', 'fma', 'fmod', 'frexp', 'fsum', 'gamma', 'gcd', 'hypot', 'inf', 'isclose', 'isfinite', 'isinf', 'isnan', 'isqrt', 'lcm', 'ldexp', 'lgamma', 'log', 'log10', 'log1p', 'log2', 'modf', 'nan', 'nextafter', 'perm', 'pi', 'pow', 'prod', 'radians', 'remainder', 'sin', 'sinh', 'sqrt', 'sumprod', 'tan', 'tanh', 'tau', 'trunc', 'ulp']\n"
     ]
    }
   ],
   "source": [
    "import math\n",
    "print(dir(math))"
   ]
  },
  {
   "cell_type": "code",
   "execution_count": 28,
   "id": "f2baa4d3",
   "metadata": {},
   "outputs": [
    {
     "name": "stdout",
     "output_type": "stream",
     "text": [
      "4.0\n"
     ]
    }
   ],
   "source": [
    "x = 16\n",
    "print(sqrt(x))"
   ]
  },
  {
   "cell_type": "markdown",
   "id": "93431959",
   "metadata": {},
   "source": [
    "A Cultural Musical Concert is being held in Al-hamra Complex.  There are three seating categories in \n",
    "the hall.  Class A gallery seats cost Rs. 1000, Class B gallery seats cost Rs. 700 and Class C gallery seats \n",
    "cost Rs. 500.  Write a program that asks how many tickets for each class of seats were sold, then \n",
    "displays the amount of income generated from ticket sales.  "
   ]
  },
  {
   "cell_type": "code",
   "execution_count": null,
   "id": "8a976cea",
   "metadata": {},
   "outputs": [],
   "source": [
    "class_A = int(input(\"Enter the number of tickets sold: \"))\n",
    "class_A = int(input(\"Enter the number of tickets sold: \"))\n",
    "class_A = int(input(\"Enter the number of tickets sold: \"))\n"
   ]
  }
 ],
 "metadata": {
  "kernelspec": {
   "display_name": "Python 3",
   "language": "python",
   "name": "python3"
  },
  "language_info": {
   "codemirror_mode": {
    "name": "ipython",
    "version": 3
   },
   "file_extension": ".py",
   "mimetype": "text/x-python",
   "name": "python",
   "nbconvert_exporter": "python",
   "pygments_lexer": "ipython3",
   "version": "3.13.3"
  }
 },
 "nbformat": 4,
 "nbformat_minor": 5
}
