{
 "cells": [
  {
   "cell_type": "markdown",
   "id": "b5d6e30d",
   "metadata": {},
   "source": [
    "# 🐍 Introduction to Python Programming\n",
    "\n",
    "Python is a **high-level, interpreted programming language** known for its:\n",
    "\n",
    "- 🧠 **Simplicity**  \n",
    "- 📚 **Readability**  \n",
    "- 🔁 **Versatility**\n",
    "\n",
    "---\n",
    "\n",
    "## 👨‍💻 Why Python?\n",
    "\n",
    "- ✅ Easy to learn and write  \n",
    "- ✅ Clean and readable syntax  \n",
    "- ✅ Supports multiple programming paradigms:\n",
    "  - Procedural\n",
    "  - Object-Oriented\n",
    "  - Functional\n",
    "\n",
    "---\n",
    "\n",
    "## 🌍 Where is Python Used?\n",
    "\n",
    "- 🌐 **Web Development**\n",
    "- 📊 **Data Science & Analytics**\n",
    "- 🤖 **Artificial Intelligence & Machine Learning**\n",
    "\n",
    "---\n",
    "\n",
    "## 🛠️ Features of Python\n",
    "\n",
    "- Large standard library & active community  \n",
    "- Cross-platform compatibility  \n",
    "- Integration with other languages like C/C++  \n",
    "\n",
    "---\n",
    "\n",
    "\n"
   ]
  },
  {
   "cell_type": "code",
   "execution_count": 5,
   "id": "1a37904f",
   "metadata": {},
   "outputs": [
    {
     "name": "stdout",
     "output_type": "stream",
     "text": [
      "Welcome to the python programming session1\n"
     ]
    }
   ],
   "source": [
    "print(\"Welcome to the python programming session1\")"
   ]
  },
  {
   "cell_type": "code",
   "execution_count": 7,
   "id": "2f41d8dc",
   "metadata": {},
   "outputs": [
    {
     "name": "stdout",
     "output_type": "stream",
     "text": [
      "Help on built-in function print in module builtins:\n",
      "\n",
      "print(*args, sep=' ', end='\\n', file=None, flush=False)\n",
      "    Prints the values to a stream, or to sys.stdout by default.\n",
      "\n",
      "    sep\n",
      "      string inserted between values, default a space.\n",
      "    end\n",
      "      string appended after the last value, default a newline.\n",
      "    file\n",
      "      a file-like object (stream); defaults to the current sys.stdout.\n",
      "    flush\n",
      "      whether to forcibly flush the stream.\n",
      "\n"
     ]
    }
   ],
   "source": [
    "help(print)"
   ]
  },
  {
   "cell_type": "code",
   "execution_count": 14,
   "id": "6bfd9e58",
   "metadata": {},
   "outputs": [
    {
     "name": "stdout",
     "output_type": "stream",
     "text": [
      "2 3 4 Muneeb\n",
      "234Muneeb\n",
      "           We are trying        print function\n"
     ]
    }
   ],
   "source": [
    "print(2, 3, 4, \"Muneeb\")\n",
    "print(2, 3, 4, \"Muneeb\", sep='')\n",
    "print          (            \"           We are trying        print function\")"
   ]
  },
  {
   "cell_type": "code",
   "execution_count": 15,
   "id": "3723b6c2",
   "metadata": {},
   "outputs": [
    {
     "name": "stdout",
     "output_type": "stream",
     "text": [
      "python\n"
     ]
    }
   ],
   "source": [
    "                print(\"python\")"
   ]
  }
 ],
 "metadata": {
  "kernelspec": {
   "display_name": "Python 3",
   "language": "python",
   "name": "python3"
  },
  "language_info": {
   "codemirror_mode": {
    "name": "ipython",
    "version": 3
   },
   "file_extension": ".py",
   "mimetype": "text/x-python",
   "name": "python",
   "nbconvert_exporter": "python",
   "pygments_lexer": "ipython3",
   "version": "3.12.9"
  }
 },
 "nbformat": 4,
 "nbformat_minor": 5
}
