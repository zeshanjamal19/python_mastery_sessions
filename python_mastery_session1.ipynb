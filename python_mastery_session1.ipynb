{
 "cells": [
  {
   "cell_type": "markdown",
   "id": "b5d6e30d",
   "metadata": {},
   "source": [
    "# 🐍 Introduction to Python Programming\n",
    "\n",
    "Python is a **high-level, interpreted programming language** known for its:\n",
    "\n",
    "- 🧠 **Simplicity**  \n",
    "- 📚 **Readability**  \n",
    "- 🔁 **Versatility**\n",
    "\n",
    "---\n",
    "\n",
    "## 👨‍💻 Why Python?\n",
    "\n",
    "- ✅ Easy to learn and write  \n",
    "- ✅ Clean and readable syntax  \n",
    "- ✅ Supports multiple programming paradigms:\n",
    "  - Procedural\n",
    "  - Object-Oriented\n",
    "  - Functional\n",
    "\n",
    "---\n",
    "\n",
    "## 🌍 Where is Python Used?\n",
    "\n",
    "- 🌐 **Web Development**\n",
    "- 📊 **Data Science & Analytics**\n",
    "- 🤖 **Artificial Intelligence & Machine Learning**\n",
    "\n",
    "---\n",
    "\n",
    "## 🛠️ Features of Python\n",
    "\n",
    "- Large standard library & active community  \n",
    "- Cross-platform compatibility  \n",
    "- Integration with other languages like C/C++  \n",
    "\n",
    "---\n",
    "\n",
    "\n"
   ]
  },
  {
   "cell_type": "code",
   "execution_count": 5,
   "id": "1a37904f",
   "metadata": {},
   "outputs": [
    {
     "name": "stdout",
     "output_type": "stream",
     "text": [
      "Welcome to the python programming session1\n"
     ]
    }
   ],
   "source": [
    "print(\"Welcome to the python programming session1\")"
   ]
  },
  {
   "cell_type": "code",
   "execution_count": 7,
   "id": "2f41d8dc",
   "metadata": {},
   "outputs": [
    {
     "name": "stdout",
     "output_type": "stream",
     "text": [
      "Help on built-in function print in module builtins:\n",
      "\n",
      "print(*args, sep=' ', end='\\n', file=None, flush=False)\n",
      "    Prints the values to a stream, or to sys.stdout by default.\n",
      "\n",
      "    sep\n",
      "      string inserted between values, default a space.\n",
      "    end\n",
      "      string appended after the last value, default a newline.\n",
      "    file\n",
      "      a file-like object (stream); defaults to the current sys.stdout.\n",
      "    flush\n",
      "      whether to forcibly flush the stream.\n",
      "\n"
     ]
    }
   ],
   "source": [
    "help(print)"
   ]
  },
  {
   "cell_type": "code",
   "execution_count": 14,
   "id": "6bfd9e58",
   "metadata": {},
   "outputs": [
    {
     "name": "stdout",
     "output_type": "stream",
     "text": [
      "2 3 4 Muneeb\n",
      "234Muneeb\n",
      "           We are trying        print function\n"
     ]
    }
   ],
   "source": [
    "print(2, 3, 4, \"Muneeb\")\n",
    "print(2, 3, 4, \"Muneeb\", sep='')\n",
    "print          (            \"           We are trying        print function\")"
   ]
  },
  {
   "cell_type": "code",
   "execution_count": null,
   "id": "3723b6c2",
   "metadata": {},
   "outputs": [
    {
     "name": "stdout",
     "output_type": "stream",
     "text": [
      "python\n"
     ]
    }
   ],
   "source": [
    "#It will pop the unexpected indent : Indentation error\n",
    "        print(\"python\")\n"
   ]
  },
  {
   "cell_type": "code",
   "execution_count": 18,
   "id": "549dc664",
   "metadata": {},
   "outputs": [
    {
     "name": "stdout",
     "output_type": "stream",
     "text": [
      "*****************\n"
     ]
    }
   ],
   "source": [
    "print(\"*****************\")"
   ]
  },
  {
   "cell_type": "code",
   "execution_count": 22,
   "id": "a908faf3",
   "metadata": {},
   "outputs": [
    {
     "name": "stdout",
     "output_type": "stream",
     "text": [
      "***************\n"
     ]
    }
   ],
   "source": [
    "print(15*\"*\")"
   ]
  },
  {
   "cell_type": "code",
   "execution_count": 24,
   "id": "b64091ba",
   "metadata": {},
   "outputs": [
    {
     "name": "stdout",
     "output_type": "stream",
     "text": [
      "python programming\n"
     ]
    }
   ],
   "source": [
    "print(\"python\", \"programming\")"
   ]
  },
  {
   "cell_type": "code",
   "execution_count": 28,
   "id": "d656e573",
   "metadata": {},
   "outputs": [
    {
     "name": "stdout",
     "output_type": "stream",
     "text": [
      "python programming\n"
     ]
    }
   ],
   "source": [
    "print(\"python\" + \" programming\")"
   ]
  },
  {
   "cell_type": "code",
   "execution_count": 31,
   "id": "fa46b2e5",
   "metadata": {},
   "outputs": [
    {
     "ename": "TypeError",
     "evalue": "can only concatenate str (not \"int\") to str",
     "output_type": "error",
     "traceback": [
      "\u001b[31m---------------------------------------------------------------------------\u001b[39m",
      "\u001b[31mTypeError\u001b[39m                                 Traceback (most recent call last)",
      "\u001b[36mCell\u001b[39m\u001b[36m \u001b[39m\u001b[32mIn[31]\u001b[39m\u001b[32m, line 1\u001b[39m\n\u001b[32m----> \u001b[39m\u001b[32m1\u001b[39m \u001b[38;5;28mprint\u001b[39m(\u001b[33;43m\"\u001b[39;49m\u001b[33;43mpython\u001b[39;49m\u001b[33;43m\"\u001b[39;49m\u001b[43m \u001b[49m\u001b[43m+\u001b[49m\u001b[43m \u001b[49m\u001b[32;43m5\u001b[39;49m)\n",
      "\u001b[31mTypeError\u001b[39m: can only concatenate str (not \"int\") to str"
     ]
    }
   ],
   "source": [
    "print(\"python\" + 5)"
   ]
  },
  {
   "cell_type": "code",
   "execution_count": 33,
   "id": "7a628488",
   "metadata": {},
   "outputs": [
    {
     "name": "stdout",
     "output_type": "stream",
     "text": [
      "python 5\n"
     ]
    }
   ],
   "source": [
    "print(\"python \" + \"5\")"
   ]
  },
  {
   "cell_type": "code",
   "execution_count": 34,
   "id": "9be33cea",
   "metadata": {},
   "outputs": [
    {
     "name": "stdout",
     "output_type": "stream",
     "text": [
      "Python proramming\n"
     ]
    }
   ],
   "source": [
    "print('Python proramming')"
   ]
  },
  {
   "cell_type": "code",
   "execution_count": 35,
   "id": "073796b6",
   "metadata": {},
   "outputs": [
    {
     "ename": "SyntaxError",
     "evalue": "unterminated string literal (detected at line 1) (2926211688.py, line 1)",
     "output_type": "error",
     "traceback": [
      "  \u001b[36mCell\u001b[39m\u001b[36m \u001b[39m\u001b[32mIn[35]\u001b[39m\u001b[32m, line 1\u001b[39m\n\u001b[31m    \u001b[39m\u001b[31mprint('If you can't convince them confuse them!')\u001b[39m\n                                                   ^\n\u001b[31mSyntaxError\u001b[39m\u001b[31m:\u001b[39m unterminated string literal (detected at line 1)\n"
     ]
    }
   ],
   "source": [
    "print('If you can't convince them confuse them!')"
   ]
  },
  {
   "cell_type": "code",
   "execution_count": 36,
   "id": "851d68cf",
   "metadata": {},
   "outputs": [
    {
     "name": "stdout",
     "output_type": "stream",
     "text": [
      "If you can't convince them confuse them!\n"
     ]
    }
   ],
   "source": [
    "print('If you can\\'t convince them confuse them!')"
   ]
  },
  {
   "cell_type": "code",
   "execution_count": 37,
   "id": "3bfc6fa5",
   "metadata": {},
   "outputs": [
    {
     "name": "stdout",
     "output_type": "stream",
     "text": [
      "If you can't convince them confuse them!\n"
     ]
    }
   ],
   "source": [
    "print(\"If you can't convince them confuse them!\")"
   ]
  },
  {
   "cell_type": "code",
   "execution_count": 39,
   "id": "eaa61571",
   "metadata": {},
   "outputs": [
    {
     "name": "stdout",
     "output_type": "stream",
     "text": [
      "C:\\nltk_data\\tokenizers\n"
     ]
    }
   ],
   "source": [
    "print(\"C:\\\\nltk_data\\\\tokenizers\")"
   ]
  },
  {
   "cell_type": "code",
   "execution_count": 41,
   "id": "04bea197",
   "metadata": {},
   "outputs": [
    {
     "name": "stdout",
     "output_type": "stream",
     "text": [
      "Hello\tworld\n"
     ]
    }
   ],
   "source": [
    "print(\"Hello\\tworld\")"
   ]
  },
  {
   "cell_type": "code",
   "execution_count": null,
   "id": "6efd9444",
   "metadata": {},
   "outputs": [],
   "source": []
  }
 ],
 "metadata": {
  "kernelspec": {
   "display_name": "Python 3",
   "language": "python",
   "name": "python3"
  },
  "language_info": {
   "codemirror_mode": {
    "name": "ipython",
    "version": 3
   },
   "file_extension": ".py",
   "mimetype": "text/x-python",
   "name": "python",
   "nbconvert_exporter": "python",
   "pygments_lexer": "ipython3",
   "version": "3.12.9"
  }
 },
 "nbformat": 4,
 "nbformat_minor": 5
}
