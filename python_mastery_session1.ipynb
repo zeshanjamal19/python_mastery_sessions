{
 "cells": [
  {
   "cell_type": "markdown",
   "id": "b5d6e30d",
   "metadata": {},
   "source": [
    "# 🐍 Introduction to Python Programming\n",
    "\n",
    "Python is a **high-level, interpreted programming language** known for its:\n",
    "\n",
    "- 🧠 **Simplicity**  \n",
    "- 📚 **Readability**  \n",
    "- 🔁 **Versatility**\n",
    "\n",
    "---\n",
    "\n",
    "## 👨‍💻 Why Python?\n",
    "\n",
    "- ✅ Easy to learn and write  \n",
    "- ✅ Clean and readable syntax  \n",
    "- ✅ Supports multiple programming paradigms:\n",
    "  - Procedural\n",
    "  - Object-Oriented\n",
    "  - Functional\n",
    "\n",
    "---\n",
    "\n",
    "## 🌍 Where is Python Used?\n",
    "\n",
    "- 🌐 **Web Development**\n",
    "- 📊 **Data Science & Analytics**\n",
    "- 🤖 **Artificial Intelligence & Machine Learning**\n",
    "\n",
    "---\n",
    "\n",
    "## 🛠️ Features of Python\n",
    "\n",
    "- Large standard library & active community  \n",
    "- Cross-platform compatibility  \n",
    "- Integration with other languages like C/C++  \n",
    "\n",
    "---\n",
    "\n",
    "\n"
   ]
  },
  {
   "cell_type": "code",
   "execution_count": 2,
   "id": "1a37904f",
   "metadata": {},
   "outputs": [
    {
     "name": "stdout",
     "output_type": "stream",
     "text": [
      "working\n"
     ]
    }
   ],
   "source": [
    "print(\"working\")"
   ]
  },
  {
   "cell_type": "code",
   "execution_count": 3,
   "id": "3daa65d7",
   "metadata": {},
   "outputs": [
    {
     "name": "stdout",
     "output_type": "stream",
     "text": [
      "working\n"
     ]
    }
   ],
   "source": [
    "print(     \"working\")"
   ]
  }
 ],
 "metadata": {
  "kernelspec": {
   "display_name": "Python 3",
   "language": "python",
   "name": "python3"
  },
  "language_info": {
   "codemirror_mode": {
    "name": "ipython",
    "version": 3
   },
   "file_extension": ".py",
   "mimetype": "text/x-python",
   "name": "python",
   "nbconvert_exporter": "python",
   "pygments_lexer": "ipython3",
   "version": "3.12.9"
  }
 },
 "nbformat": 4,
 "nbformat_minor": 5
}
