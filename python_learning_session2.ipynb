{
 "cells": [
  {
   "cell_type": "markdown",
   "id": "8e5e9c7e",
   "metadata": {},
   "source": [
    "## Python Data types\n",
    "* Numbers\n",
    "    * float\n",
    "    - integer\n",
    "- String"
   ]
  },
  {
   "cell_type": "markdown",
   "id": "981a8670",
   "metadata": {},
   "source": [
    "## Variables\n",
    "\n",
    "### Naming Rules\n",
    "- First character must be from alphabets a-z or A-Z or underscore (_). \n",
    "- After first character you can use alphabets a-z or A-Z or underscore or digits 0-9. \n",
    "- The names of variables are case sensitive. "
   ]
  },
  {
   "cell_type": "markdown",
   "id": "1b150b6f",
   "metadata": {},
   "source": [
    "Valid Variables:Amount \n",
    "Total_Amount \n",
    "_Registration \n",
    "Session2025 "
   ]
  },
  {
   "cell_type": "code",
   "execution_count": 4,
   "id": "eec8280c",
   "metadata": {},
   "outputs": [
    {
     "data": {
      "text/plain": [
       "['False',\n",
       " 'None',\n",
       " 'True',\n",
       " 'and',\n",
       " 'as',\n",
       " 'assert',\n",
       " 'async',\n",
       " 'await',\n",
       " 'break',\n",
       " 'class',\n",
       " 'continue',\n",
       " 'def',\n",
       " 'del',\n",
       " 'elif',\n",
       " 'else',\n",
       " 'except',\n",
       " 'finally',\n",
       " 'for',\n",
       " 'from',\n",
       " 'global',\n",
       " 'if',\n",
       " 'import',\n",
       " 'in',\n",
       " 'is',\n",
       " 'lambda',\n",
       " 'nonlocal',\n",
       " 'not',\n",
       " 'or',\n",
       " 'pass',\n",
       " 'raise',\n",
       " 'return',\n",
       " 'try',\n",
       " 'while',\n",
       " 'with',\n",
       " 'yield']"
      ]
     },
     "execution_count": 4,
     "metadata": {},
     "output_type": "execute_result"
    }
   ],
   "source": [
    "import keyword\n",
    "keyword.kwlist"
   ]
  },
  {
   "cell_type": "code",
   "execution_count": 5,
   "id": "00529a01",
   "metadata": {},
   "outputs": [
    {
     "name": "stdout",
     "output_type": "stream",
     "text": [
      "3\n",
      "True\n"
     ]
    }
   ],
   "source": [
    "x=3\n",
    "print(x)\n",
    "print(x==3)"
   ]
  },
  {
   "cell_type": "code",
   "execution_count": 6,
   "id": "bde07162",
   "metadata": {},
   "outputs": [
    {
     "name": "stdout",
     "output_type": "stream",
     "text": [
      "The value in variable x is: 20.5\n",
      "The value in variable y is: 41.0\n"
     ]
    }
   ],
   "source": [
    "x=20.5 \n",
    "y=2*x \n",
    "print('The value in variable x is:',x) \n",
    "print('The value in variable y is:',y) "
   ]
  },
  {
   "cell_type": "code",
   "execution_count": null,
   "id": "d93a4a0d",
   "metadata": {},
   "outputs": [],
   "source": [
    "x=x+10\n",
    "x += 10"
   ]
  },
  {
   "cell_type": "code",
   "execution_count": 7,
   "id": "488774e5",
   "metadata": {},
   "outputs": [
    {
     "name": "stdout",
     "output_type": "stream",
     "text": [
      "50 50\n"
     ]
    }
   ],
   "source": [
    "x=20 \n",
    "y=50 \n",
    "x=y \n",
    "print(x,y) "
   ]
  },
  {
   "cell_type": "code",
   "execution_count": 8,
   "id": "71fc5277",
   "metadata": {},
   "outputs": [
    {
     "name": "stdout",
     "output_type": "stream",
     "text": [
      "50 20\n"
     ]
    }
   ],
   "source": [
    "x=20 \n",
    "y=50 \n",
    "temp = x\n",
    "x = y\n",
    "y = temp\n",
    "print(x, y)"
   ]
  },
  {
   "cell_type": "code",
   "execution_count": 9,
   "id": "78585a3b",
   "metadata": {},
   "outputs": [
    {
     "name": "stdout",
     "output_type": "stream",
     "text": [
      "20 50\n"
     ]
    }
   ],
   "source": [
    "x, y = y, x\n",
    "print(x, y)"
   ]
  },
  {
   "cell_type": "markdown",
   "id": "fc354b9d",
   "metadata": {},
   "source": [
    "### Operators\n",
    "- Addition\n",
    "- Subtraction\n",
    "- Multiplication\n",
    "- Division\n",
    "- Modulus\n",
    "- Exponent\n",
    "- Floor Division\n",
    "\n",
    "| Operator | Name                       | Example (a=10, b=3) | Command         | Output               |\n",
    "|----------|----------------------------|----------------------|------------------|----------------------|\n",
    "| `+`      | Addition                   | `a + b`              | `print(a + b)`   | 13                   |\n",
    "| `-`      | Subtraction                | `a - b`              | `print(a - b)`   | 7                    |\n",
    "| `*`      | Multiplication             | `a * b`              | `print(a * b)`   | 30                   |\n",
    "| `/`      | Division                   | `a / b`              | `print(a / b)`   | 3.3333333333333335   |\n",
    "| `%`      | Modulus (Remainder)        | `a % b`              | `print(a % b)`   | 1                    |\n",
    "| `**`     | Exponentiation             | `a ** b`             | `print(a ** b)`  | 1000                 |\n",
    "| `//`     | Floor Division             | `a // b`             | `print(a // b)`  | 3                    |\n"
   ]
  },
  {
   "cell_type": "code",
   "execution_count": 11,
   "id": "82113bd1",
   "metadata": {},
   "outputs": [
    {
     "name": "stdout",
     "output_type": "stream",
     "text": [
      "Half of y is: 50.0\n"
     ]
    }
   ],
   "source": [
    "y=100 \n",
    "print(\"Half of y is:\",y/2)"
   ]
  },
  {
   "cell_type": "code",
   "execution_count": 13,
   "id": "789f1a01",
   "metadata": {},
   "outputs": [
    {
     "ename": "TypeError",
     "evalue": "unsupported operand type(s) for /: 'str' and 'int'",
     "output_type": "error",
     "traceback": [
      "\u001b[1;31m---------------------------------------------------------------------------\u001b[0m",
      "\u001b[1;31mTypeError\u001b[0m                                 Traceback (most recent call last)",
      "Cell \u001b[1;32mIn[13], line 2\u001b[0m\n\u001b[0;32m      1\u001b[0m y\u001b[38;5;241m=\u001b[39m\u001b[38;5;124m\"\u001b[39m\u001b[38;5;124m100\u001b[39m\u001b[38;5;124m\"\u001b[39m \n\u001b[1;32m----> 2\u001b[0m \u001b[38;5;28mprint\u001b[39m(\u001b[38;5;124m\"\u001b[39m\u001b[38;5;124mHalf of y is:\u001b[39m\u001b[38;5;124m\"\u001b[39m,\u001b[43my\u001b[49m\u001b[38;5;241;43m/\u001b[39;49m\u001b[38;5;241;43m2\u001b[39;49m) \n",
      "\u001b[1;31mTypeError\u001b[0m: unsupported operand type(s) for /: 'str' and 'int'"
     ]
    }
   ],
   "source": [
    "y=\"100\" \n",
    "print(\"Half of y is:\",y/2) "
   ]
  },
  {
   "cell_type": "code",
   "execution_count": 16,
   "id": "32ef7b75",
   "metadata": {},
   "outputs": [
    {
     "name": "stdout",
     "output_type": "stream",
     "text": [
      "100\n"
     ]
    }
   ],
   "source": [
    "## Taking user input\n",
    "x = input(\"Enter the value of x: \")\n",
    "print(x)"
   ]
  },
  {
   "cell_type": "code",
   "execution_count": 17,
   "id": "0b2d105d",
   "metadata": {},
   "outputs": [
    {
     "ename": "TypeError",
     "evalue": "unsupported operand type(s) for /: 'str' and 'int'",
     "output_type": "error",
     "traceback": [
      "\u001b[1;31m---------------------------------------------------------------------------\u001b[0m",
      "\u001b[1;31mTypeError\u001b[0m                                 Traceback (most recent call last)",
      "Cell \u001b[1;32mIn[17], line 1\u001b[0m\n\u001b[1;32m----> 1\u001b[0m \u001b[38;5;28mprint\u001b[39m(\u001b[43mx\u001b[49m\u001b[38;5;241;43m/\u001b[39;49m\u001b[38;5;241;43m5\u001b[39;49m)\n",
      "\u001b[1;31mTypeError\u001b[0m: unsupported operand type(s) for /: 'str' and 'int'"
     ]
    }
   ],
   "source": [
    "print(x/5)"
   ]
  },
  {
   "cell_type": "code",
   "execution_count": 19,
   "id": "1d83074f",
   "metadata": {},
   "outputs": [
    {
     "name": "stdout",
     "output_type": "stream",
     "text": [
      "90\n"
     ]
    }
   ],
   "source": [
    "x = int(input(\"Enter the value of x: \"))\n",
    "print(x)"
   ]
  },
  {
   "cell_type": "code",
   "execution_count": 20,
   "id": "8a8a09b3",
   "metadata": {},
   "outputs": [
    {
     "ename": "NameError",
     "evalue": "name 'Zeeshan' is not defined",
     "output_type": "error",
     "traceback": [
      "\u001b[1;31m---------------------------------------------------------------------------\u001b[0m",
      "\u001b[1;31mNameError\u001b[0m                                 Traceback (most recent call last)",
      "Cell \u001b[1;32mIn[20], line 1\u001b[0m\n\u001b[1;32m----> 1\u001b[0m y \u001b[38;5;241m=\u001b[39m \u001b[38;5;28;43meval\u001b[39;49m\u001b[43m(\u001b[49m\u001b[38;5;28;43minput\u001b[39;49m\u001b[43m(\u001b[49m\u001b[38;5;124;43m\"\u001b[39;49m\u001b[38;5;124;43mEnter a value: \u001b[39;49m\u001b[38;5;124;43m\"\u001b[39;49m\u001b[43m)\u001b[49m\u001b[43m)\u001b[49m\n\u001b[0;32m      2\u001b[0m \u001b[38;5;28mprint\u001b[39m(y)\n",
      "File \u001b[1;32m<string>:1\u001b[0m\n",
      "\u001b[1;31mNameError\u001b[0m: name 'Zeeshan' is not defined"
     ]
    }
   ],
   "source": [
    "y = eval(input(\"Enter a value: \"))\n",
    "print(y)\n"
   ]
  },
  {
   "cell_type": "code",
   "execution_count": 21,
   "id": "b8b5f8ab",
   "metadata": {},
   "outputs": [
    {
     "ename": "ValueError",
     "evalue": "invalid literal for int() with base 10: '2.59'",
     "output_type": "error",
     "traceback": [
      "\u001b[1;31m---------------------------------------------------------------------------\u001b[0m",
      "\u001b[1;31mValueError\u001b[0m                                Traceback (most recent call last)",
      "Cell \u001b[1;32mIn[21], line 1\u001b[0m\n\u001b[1;32m----> 1\u001b[0m x \u001b[38;5;241m=\u001b[39m \u001b[38;5;28;43mint\u001b[39;49m\u001b[43m(\u001b[49m\u001b[38;5;28;43minput\u001b[39;49m\u001b[43m(\u001b[49m\u001b[38;5;124;43m\"\u001b[39;49m\u001b[38;5;124;43mEnter value: \u001b[39;49m\u001b[38;5;124;43m\"\u001b[39;49m\u001b[43m)\u001b[49m\u001b[43m)\u001b[49m\n\u001b[0;32m      2\u001b[0m \u001b[38;5;28mprint\u001b[39m(x)\n",
      "\u001b[1;31mValueError\u001b[0m: invalid literal for int() with base 10: '2.59'"
     ]
    }
   ],
   "source": [
    "x = int(input(\"Enter value: \"))\n",
    "print(x)"
   ]
  },
  {
   "cell_type": "code",
   "execution_count": 23,
   "id": "23335e0b",
   "metadata": {},
   "outputs": [
    {
     "name": "stdout",
     "output_type": "stream",
     "text": [
      "100\n"
     ]
    }
   ],
   "source": [
    "x = eval(input(\"Enter a number: \"))\n",
    "print(x)"
   ]
  },
  {
   "cell_type": "markdown",
   "id": "8eb56c66",
   "metadata": {},
   "source": [
    "| Operator(s)     | Name                                  | Precedence Level (High → Low) |\n",
    "|----------------|---------------------------------------|-------------------------------|\n",
    "| `()`           | Parenthesis                           | Highest                       |\n",
    "| `**`           | Exponentiation                        |                               |\n",
    "| `/`, `//`, `%` | Division, Floor Division, Modulus     |                               |\n",
    "| `*`            | Multiplication                        |                               |\n",
    "| `+`, `-`       | Addition and Subtraction              | Lowest                        |\n"
   ]
  },
  {
   "cell_type": "code",
   "execution_count": 33,
   "id": "c462b123",
   "metadata": {},
   "outputs": [
    {
     "name": "stdout",
     "output_type": "stream",
     "text": [
      "7  +  6 + 5 = 18\n"
     ]
    }
   ],
   "source": [
    "num = 567\n",
    "a = num % 10\n",
    "num //=10\n",
    "b = num % 10\n",
    "num //= 10\n",
    "c = num\n",
    "sum = a + b + c\n",
    "print(a, ' + ', b, '+',  c,\"=\", sum)"
   ]
  },
  {
   "cell_type": "code",
   "execution_count": null,
   "id": "362752ac",
   "metadata": {},
   "outputs": [],
   "source": []
  }
 ],
 "metadata": {
  "kernelspec": {
   "display_name": "Python 3",
   "language": "python",
   "name": "python3"
  },
  "language_info": {
   "codemirror_mode": {
    "name": "ipython",
    "version": 3
   },
   "file_extension": ".py",
   "mimetype": "text/x-python",
   "name": "python",
   "nbconvert_exporter": "python",
   "pygments_lexer": "ipython3",
   "version": "3.13.3"
  }
 },
 "nbformat": 4,
 "nbformat_minor": 5
}
